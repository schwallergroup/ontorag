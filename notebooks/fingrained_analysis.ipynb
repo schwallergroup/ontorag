{
 "cells": [
  {
   "cell_type": "code",
   "execution_count": 1,
   "metadata": {},
   "outputs": [
    {
     "name": "stderr",
     "output_type": "stream",
     "text": [
      "Failed to detect the name of this notebook, you can set it manually with the WANDB_NOTEBOOK_NAME environment variable to enable code saving.\n",
      "\u001b[34m\u001b[1mwandb\u001b[0m: Currently logged in as: \u001b[33mdrecmb\u001b[0m (\u001b[33mliac\u001b[0m). Use \u001b[1m`wandb login --relogin`\u001b[0m to force relogin\n"
     ]
    },
    {
     "data": {
      "text/html": [
       "wandb version 0.18.7 is available!  To upgrade, please run:\n",
       " $ pip install wandb --upgrade"
      ],
      "text/plain": [
       "<IPython.core.display.HTML object>"
      ]
     },
     "metadata": {},
     "output_type": "display_data"
    },
    {
     "data": {
      "text/html": [
       "Tracking run with wandb version 0.16.6"
      ],
      "text/plain": [
       "<IPython.core.display.HTML object>"
      ]
     },
     "metadata": {},
     "output_type": "display_data"
    },
    {
     "data": {
      "text/html": [
       "Run data is saved locally in <code>/home/andres/Documents/ontorag/notebooks/wandb/run-20241128_111105-izgqb34m</code>"
      ],
      "text/plain": [
       "<IPython.core.display.HTML object>"
      ]
     },
     "metadata": {},
     "output_type": "display_data"
    },
    {
     "data": {
      "text/html": [
       "Syncing run <strong><a href='https://wandb.ai/liac/ontorag-notebooks/runs/izgqb34m' target=\"_blank\">chocolate-plasma-77</a></strong> to <a href='https://wandb.ai/liac/ontorag-notebooks' target=\"_blank\">Weights & Biases</a> (<a href='https://wandb.me/run' target=\"_blank\">docs</a>)<br/>"
      ],
      "text/plain": [
       "<IPython.core.display.HTML object>"
      ]
     },
     "metadata": {},
     "output_type": "display_data"
    },
    {
     "data": {
      "text/html": [
       " View project at <a href='https://wandb.ai/liac/ontorag-notebooks' target=\"_blank\">https://wandb.ai/liac/ontorag-notebooks</a>"
      ],
      "text/plain": [
       "<IPython.core.display.HTML object>"
      ]
     },
     "metadata": {},
     "output_type": "display_data"
    },
    {
     "data": {
      "text/html": [
       " View run at <a href='https://wandb.ai/liac/ontorag-notebooks/runs/izgqb34m' target=\"_blank\">https://wandb.ai/liac/ontorag-notebooks/runs/izgqb34m</a>"
      ],
      "text/plain": [
       "<IPython.core.display.HTML object>"
      ]
     },
     "metadata": {},
     "output_type": "display_data"
    },
    {
     "name": "stderr",
     "output_type": "stream",
     "text": [
      "\u001b[34m\u001b[1mwandb\u001b[0m:   1 of 1 files downloaded.  \n"
     ]
    },
    {
     "data": {
      "text/html": [
       " View run <strong style=\"color:#cdcd00\">chocolate-plasma-77</strong> at: <a href='https://wandb.ai/liac/ontorag-notebooks/runs/izgqb34m' target=\"_blank\">https://wandb.ai/liac/ontorag-notebooks/runs/izgqb34m</a><br/> View project at: <a href='https://wandb.ai/liac/ontorag-notebooks' target=\"_blank\">https://wandb.ai/liac/ontorag-notebooks</a><br/>Synced 6 W&B file(s), 0 media file(s), 0 artifact file(s) and 0 other file(s)"
      ],
      "text/plain": [
       "<IPython.core.display.HTML object>"
      ]
     },
     "metadata": {},
     "output_type": "display_data"
    },
    {
     "data": {
      "text/html": [
       "Find logs at: <code>./wandb/run-20241128_111105-izgqb34m/logs</code>"
      ],
      "text/plain": [
       "<IPython.core.display.HTML object>"
      ]
     },
     "metadata": {},
     "output_type": "display_data"
    },
    {
     "data": {
      "text/html": [
       "wandb version 0.18.7 is available!  To upgrade, please run:\n",
       " $ pip install wandb --upgrade"
      ],
      "text/plain": [
       "<IPython.core.display.HTML object>"
      ]
     },
     "metadata": {},
     "output_type": "display_data"
    },
    {
     "data": {
      "text/html": [
       "Tracking run with wandb version 0.16.6"
      ],
      "text/plain": [
       "<IPython.core.display.HTML object>"
      ]
     },
     "metadata": {},
     "output_type": "display_data"
    },
    {
     "data": {
      "text/html": [
       "Run data is saved locally in <code>/home/andres/Documents/ontorag/notebooks/wandb/run-20241128_111118-nll25m4e</code>"
      ],
      "text/plain": [
       "<IPython.core.display.HTML object>"
      ]
     },
     "metadata": {},
     "output_type": "display_data"
    },
    {
     "data": {
      "text/html": [
       "Syncing run <strong><a href='https://wandb.ai/liac/ontorag-notebooks/runs/nll25m4e' target=\"_blank\">flowing-oath-78</a></strong> to <a href='https://wandb.ai/liac/ontorag-notebooks' target=\"_blank\">Weights & Biases</a> (<a href='https://wandb.me/run' target=\"_blank\">docs</a>)<br/>"
      ],
      "text/plain": [
       "<IPython.core.display.HTML object>"
      ]
     },
     "metadata": {},
     "output_type": "display_data"
    },
    {
     "data": {
      "text/html": [
       " View project at <a href='https://wandb.ai/liac/ontorag-notebooks' target=\"_blank\">https://wandb.ai/liac/ontorag-notebooks</a>"
      ],
      "text/plain": [
       "<IPython.core.display.HTML object>"
      ]
     },
     "metadata": {},
     "output_type": "display_data"
    },
    {
     "data": {
      "text/html": [
       " View run at <a href='https://wandb.ai/liac/ontorag-notebooks/runs/nll25m4e' target=\"_blank\">https://wandb.ai/liac/ontorag-notebooks/runs/nll25m4e</a>"
      ],
      "text/plain": [
       "<IPython.core.display.HTML object>"
      ]
     },
     "metadata": {},
     "output_type": "display_data"
    },
    {
     "name": "stderr",
     "output_type": "stream",
     "text": [
      "\u001b[34m\u001b[1mwandb\u001b[0m:   1 of 1 files downloaded.  \n"
     ]
    },
    {
     "data": {
      "text/html": [
       " View run <strong style=\"color:#cdcd00\">flowing-oath-78</strong> at: <a href='https://wandb.ai/liac/ontorag-notebooks/runs/nll25m4e' target=\"_blank\">https://wandb.ai/liac/ontorag-notebooks/runs/nll25m4e</a><br/> View project at: <a href='https://wandb.ai/liac/ontorag-notebooks' target=\"_blank\">https://wandb.ai/liac/ontorag-notebooks</a><br/>Synced 6 W&B file(s), 0 media file(s), 0 artifact file(s) and 0 other file(s)"
      ],
      "text/plain": [
       "<IPython.core.display.HTML object>"
      ]
     },
     "metadata": {},
     "output_type": "display_data"
    },
    {
     "data": {
      "text/html": [
       "Find logs at: <code>./wandb/run-20241128_111118-nll25m4e/logs</code>"
      ],
      "text/plain": [
       "<IPython.core.display.HTML object>"
      ]
     },
     "metadata": {},
     "output_type": "display_data"
    },
    {
     "data": {
      "text/html": [
       "wandb version 0.18.7 is available!  To upgrade, please run:\n",
       " $ pip install wandb --upgrade"
      ],
      "text/plain": [
       "<IPython.core.display.HTML object>"
      ]
     },
     "metadata": {},
     "output_type": "display_data"
    },
    {
     "data": {
      "text/html": [
       "Tracking run with wandb version 0.16.6"
      ],
      "text/plain": [
       "<IPython.core.display.HTML object>"
      ]
     },
     "metadata": {},
     "output_type": "display_data"
    },
    {
     "data": {
      "text/html": [
       "Run data is saved locally in <code>/home/andres/Documents/ontorag/notebooks/wandb/run-20241128_111130-10beq9b7</code>"
      ],
      "text/plain": [
       "<IPython.core.display.HTML object>"
      ]
     },
     "metadata": {},
     "output_type": "display_data"
    },
    {
     "data": {
      "text/html": [
       "Syncing run <strong><a href='https://wandb.ai/liac/ontorag-notebooks/runs/10beq9b7' target=\"_blank\">summer-wind-79</a></strong> to <a href='https://wandb.ai/liac/ontorag-notebooks' target=\"_blank\">Weights & Biases</a> (<a href='https://wandb.me/run' target=\"_blank\">docs</a>)<br/>"
      ],
      "text/plain": [
       "<IPython.core.display.HTML object>"
      ]
     },
     "metadata": {},
     "output_type": "display_data"
    },
    {
     "data": {
      "text/html": [
       " View project at <a href='https://wandb.ai/liac/ontorag-notebooks' target=\"_blank\">https://wandb.ai/liac/ontorag-notebooks</a>"
      ],
      "text/plain": [
       "<IPython.core.display.HTML object>"
      ]
     },
     "metadata": {},
     "output_type": "display_data"
    },
    {
     "data": {
      "text/html": [
       " View run at <a href='https://wandb.ai/liac/ontorag-notebooks/runs/10beq9b7' target=\"_blank\">https://wandb.ai/liac/ontorag-notebooks/runs/10beq9b7</a>"
      ],
      "text/plain": [
       "<IPython.core.display.HTML object>"
      ]
     },
     "metadata": {},
     "output_type": "display_data"
    },
    {
     "name": "stderr",
     "output_type": "stream",
     "text": [
      "\u001b[34m\u001b[1mwandb\u001b[0m:   1 of 1 files downloaded.  \n"
     ]
    },
    {
     "data": {
      "text/html": [
       " View run <strong style=\"color:#cdcd00\">summer-wind-79</strong> at: <a href='https://wandb.ai/liac/ontorag-notebooks/runs/10beq9b7' target=\"_blank\">https://wandb.ai/liac/ontorag-notebooks/runs/10beq9b7</a><br/> View project at: <a href='https://wandb.ai/liac/ontorag-notebooks' target=\"_blank\">https://wandb.ai/liac/ontorag-notebooks</a><br/>Synced 6 W&B file(s), 0 media file(s), 0 artifact file(s) and 0 other file(s)"
      ],
      "text/plain": [
       "<IPython.core.display.HTML object>"
      ]
     },
     "metadata": {},
     "output_type": "display_data"
    },
    {
     "data": {
      "text/html": [
       "Find logs at: <code>./wandb/run-20241128_111130-10beq9b7/logs</code>"
      ],
      "text/plain": [
       "<IPython.core.display.HTML object>"
      ]
     },
     "metadata": {},
     "output_type": "display_data"
    },
    {
     "data": {
      "text/html": [
       "wandb version 0.18.7 is available!  To upgrade, please run:\n",
       " $ pip install wandb --upgrade"
      ],
      "text/plain": [
       "<IPython.core.display.HTML object>"
      ]
     },
     "metadata": {},
     "output_type": "display_data"
    },
    {
     "data": {
      "text/html": [
       "Tracking run with wandb version 0.16.6"
      ],
      "text/plain": [
       "<IPython.core.display.HTML object>"
      ]
     },
     "metadata": {},
     "output_type": "display_data"
    },
    {
     "data": {
      "text/html": [
       "Run data is saved locally in <code>/home/andres/Documents/ontorag/notebooks/wandb/run-20241128_111143-lf20cqwc</code>"
      ],
      "text/plain": [
       "<IPython.core.display.HTML object>"
      ]
     },
     "metadata": {},
     "output_type": "display_data"
    },
    {
     "data": {
      "text/html": [
       "Syncing run <strong><a href='https://wandb.ai/liac/ontorag-notebooks/runs/lf20cqwc' target=\"_blank\">sandy-cosmos-80</a></strong> to <a href='https://wandb.ai/liac/ontorag-notebooks' target=\"_blank\">Weights & Biases</a> (<a href='https://wandb.me/run' target=\"_blank\">docs</a>)<br/>"
      ],
      "text/plain": [
       "<IPython.core.display.HTML object>"
      ]
     },
     "metadata": {},
     "output_type": "display_data"
    },
    {
     "data": {
      "text/html": [
       " View project at <a href='https://wandb.ai/liac/ontorag-notebooks' target=\"_blank\">https://wandb.ai/liac/ontorag-notebooks</a>"
      ],
      "text/plain": [
       "<IPython.core.display.HTML object>"
      ]
     },
     "metadata": {},
     "output_type": "display_data"
    },
    {
     "data": {
      "text/html": [
       " View run at <a href='https://wandb.ai/liac/ontorag-notebooks/runs/lf20cqwc' target=\"_blank\">https://wandb.ai/liac/ontorag-notebooks/runs/lf20cqwc</a>"
      ],
      "text/plain": [
       "<IPython.core.display.HTML object>"
      ]
     },
     "metadata": {},
     "output_type": "display_data"
    },
    {
     "name": "stderr",
     "output_type": "stream",
     "text": [
      "\u001b[34m\u001b[1mwandb\u001b[0m:   1 of 1 files downloaded.  \n"
     ]
    },
    {
     "data": {
      "text/html": [
       " View run <strong style=\"color:#cdcd00\">sandy-cosmos-80</strong> at: <a href='https://wandb.ai/liac/ontorag-notebooks/runs/lf20cqwc' target=\"_blank\">https://wandb.ai/liac/ontorag-notebooks/runs/lf20cqwc</a><br/> View project at: <a href='https://wandb.ai/liac/ontorag-notebooks' target=\"_blank\">https://wandb.ai/liac/ontorag-notebooks</a><br/>Synced 6 W&B file(s), 0 media file(s), 0 artifact file(s) and 0 other file(s)"
      ],
      "text/plain": [
       "<IPython.core.display.HTML object>"
      ]
     },
     "metadata": {},
     "output_type": "display_data"
    },
    {
     "data": {
      "text/html": [
       "Find logs at: <code>./wandb/run-20241128_111143-lf20cqwc/logs</code>"
      ],
      "text/plain": [
       "<IPython.core.display.HTML object>"
      ]
     },
     "metadata": {},
     "output_type": "display_data"
    },
    {
     "data": {
      "text/html": [
       "wandb version 0.18.7 is available!  To upgrade, please run:\n",
       " $ pip install wandb --upgrade"
      ],
      "text/plain": [
       "<IPython.core.display.HTML object>"
      ]
     },
     "metadata": {},
     "output_type": "display_data"
    },
    {
     "data": {
      "text/html": [
       "Tracking run with wandb version 0.16.6"
      ],
      "text/plain": [
       "<IPython.core.display.HTML object>"
      ]
     },
     "metadata": {},
     "output_type": "display_data"
    },
    {
     "data": {
      "text/html": [
       "Run data is saved locally in <code>/home/andres/Documents/ontorag/notebooks/wandb/run-20241128_111156-x68jr184</code>"
      ],
      "text/plain": [
       "<IPython.core.display.HTML object>"
      ]
     },
     "metadata": {},
     "output_type": "display_data"
    },
    {
     "data": {
      "text/html": [
       "Syncing run <strong><a href='https://wandb.ai/liac/ontorag-notebooks/runs/x68jr184' target=\"_blank\">stellar-spaceship-81</a></strong> to <a href='https://wandb.ai/liac/ontorag-notebooks' target=\"_blank\">Weights & Biases</a> (<a href='https://wandb.me/run' target=\"_blank\">docs</a>)<br/>"
      ],
      "text/plain": [
       "<IPython.core.display.HTML object>"
      ]
     },
     "metadata": {},
     "output_type": "display_data"
    },
    {
     "data": {
      "text/html": [
       " View project at <a href='https://wandb.ai/liac/ontorag-notebooks' target=\"_blank\">https://wandb.ai/liac/ontorag-notebooks</a>"
      ],
      "text/plain": [
       "<IPython.core.display.HTML object>"
      ]
     },
     "metadata": {},
     "output_type": "display_data"
    },
    {
     "data": {
      "text/html": [
       " View run at <a href='https://wandb.ai/liac/ontorag-notebooks/runs/x68jr184' target=\"_blank\">https://wandb.ai/liac/ontorag-notebooks/runs/x68jr184</a>"
      ],
      "text/plain": [
       "<IPython.core.display.HTML object>"
      ]
     },
     "metadata": {},
     "output_type": "display_data"
    },
    {
     "name": "stderr",
     "output_type": "stream",
     "text": [
      "\u001b[34m\u001b[1mwandb\u001b[0m:   1 of 1 files downloaded.  \n"
     ]
    },
    {
     "data": {
      "text/html": [
       " View run <strong style=\"color:#cdcd00\">stellar-spaceship-81</strong> at: <a href='https://wandb.ai/liac/ontorag-notebooks/runs/x68jr184' target=\"_blank\">https://wandb.ai/liac/ontorag-notebooks/runs/x68jr184</a><br/> View project at: <a href='https://wandb.ai/liac/ontorag-notebooks' target=\"_blank\">https://wandb.ai/liac/ontorag-notebooks</a><br/>Synced 6 W&B file(s), 0 media file(s), 0 artifact file(s) and 0 other file(s)"
      ],
      "text/plain": [
       "<IPython.core.display.HTML object>"
      ]
     },
     "metadata": {},
     "output_type": "display_data"
    },
    {
     "data": {
      "text/html": [
       "Find logs at: <code>./wandb/run-20241128_111156-x68jr184/logs</code>"
      ],
      "text/plain": [
       "<IPython.core.display.HTML object>"
      ]
     },
     "metadata": {},
     "output_type": "display_data"
    },
    {
     "data": {
      "text/html": [
       "wandb version 0.18.7 is available!  To upgrade, please run:\n",
       " $ pip install wandb --upgrade"
      ],
      "text/plain": [
       "<IPython.core.display.HTML object>"
      ]
     },
     "metadata": {},
     "output_type": "display_data"
    },
    {
     "data": {
      "text/html": [
       "Tracking run with wandb version 0.16.6"
      ],
      "text/plain": [
       "<IPython.core.display.HTML object>"
      ]
     },
     "metadata": {},
     "output_type": "display_data"
    },
    {
     "data": {
      "text/html": [
       "Run data is saved locally in <code>/home/andres/Documents/ontorag/notebooks/wandb/run-20241128_111209-an6z1kek</code>"
      ],
      "text/plain": [
       "<IPython.core.display.HTML object>"
      ]
     },
     "metadata": {},
     "output_type": "display_data"
    },
    {
     "data": {
      "text/html": [
       "Syncing run <strong><a href='https://wandb.ai/liac/ontorag-notebooks/runs/an6z1kek' target=\"_blank\">soft-spaceship-82</a></strong> to <a href='https://wandb.ai/liac/ontorag-notebooks' target=\"_blank\">Weights & Biases</a> (<a href='https://wandb.me/run' target=\"_blank\">docs</a>)<br/>"
      ],
      "text/plain": [
       "<IPython.core.display.HTML object>"
      ]
     },
     "metadata": {},
     "output_type": "display_data"
    },
    {
     "data": {
      "text/html": [
       " View project at <a href='https://wandb.ai/liac/ontorag-notebooks' target=\"_blank\">https://wandb.ai/liac/ontorag-notebooks</a>"
      ],
      "text/plain": [
       "<IPython.core.display.HTML object>"
      ]
     },
     "metadata": {},
     "output_type": "display_data"
    },
    {
     "data": {
      "text/html": [
       " View run at <a href='https://wandb.ai/liac/ontorag-notebooks/runs/an6z1kek' target=\"_blank\">https://wandb.ai/liac/ontorag-notebooks/runs/an6z1kek</a>"
      ],
      "text/plain": [
       "<IPython.core.display.HTML object>"
      ]
     },
     "metadata": {},
     "output_type": "display_data"
    },
    {
     "name": "stderr",
     "output_type": "stream",
     "text": [
      "\u001b[34m\u001b[1mwandb\u001b[0m:   1 of 1 files downloaded.  \n"
     ]
    },
    {
     "data": {
      "text/html": [
       " View run <strong style=\"color:#cdcd00\">soft-spaceship-82</strong> at: <a href='https://wandb.ai/liac/ontorag-notebooks/runs/an6z1kek' target=\"_blank\">https://wandb.ai/liac/ontorag-notebooks/runs/an6z1kek</a><br/> View project at: <a href='https://wandb.ai/liac/ontorag-notebooks' target=\"_blank\">https://wandb.ai/liac/ontorag-notebooks</a><br/>Synced 6 W&B file(s), 0 media file(s), 0 artifact file(s) and 0 other file(s)"
      ],
      "text/plain": [
       "<IPython.core.display.HTML object>"
      ]
     },
     "metadata": {},
     "output_type": "display_data"
    },
    {
     "data": {
      "text/html": [
       "Find logs at: <code>./wandb/run-20241128_111209-an6z1kek/logs</code>"
      ],
      "text/plain": [
       "<IPython.core.display.HTML object>"
      ]
     },
     "metadata": {},
     "output_type": "display_data"
    }
   ],
   "source": [
    "import json\n",
    "\n",
    "import pandas as pd\n",
    "\n",
    "import wandb\n",
    "\n",
    "\n",
    "def get_tables(run_id):\n",
    "    with wandb.init() as run:\n",
    "        dfs = {}\n",
    "        for bench in [\"bioasq\"]:  # ['medqa', 'mmlumed', 'medmcqa', 'bioasq']:\n",
    "            artifact = run.use_artifact(\n",
    "                f\"liac/OntoRAG-biomed/run-{run_id}-results_{bench}:v0\",\n",
    "                type=\"run_table\",\n",
    "            )\n",
    "            artifact_dir = artifact.download()\n",
    "            dfjson = json.load(\n",
    "                open(artifact_dir + f\"/results_{bench}.table.json\")\n",
    "            )\n",
    "            df = pd.DataFrame(dfjson[\"data\"], columns=dfjson[\"columns\"])\n",
    "            dfs[bench] = df\n",
    "    return dfs\n",
    "\n",
    "\n",
    "# match the keys with the names\n",
    "runs = {\n",
    "    \"63jneekd\": \"orag-hyq-tm\",\n",
    "    \"3njkj2tw\": \"orag-tm\",\n",
    "    \"bj77mnsq\": \"orag-hyq\",\n",
    "    \"nt9v14x0\": \"orag-simple\",\n",
    "    \"chgt9pvp\": \"cot\",\n",
    "    \"f3rej8wv\": \"zeroshot\",\n",
    "}\n",
    "\n",
    "for run, name in runs.items():\n",
    "    dfm = get_tables(run)\n",
    "    for k, df in dfm.items():\n",
    "        df.to_csv(f\"data/_{k}_{name}.csv\", index=False, sep=\"\\t\")"
   ]
  },
  {
   "cell_type": "markdown",
   "metadata": {},
   "source": [
    "## Accuracy for ontorags, when context was retrieved"
   ]
  },
  {
   "cell_type": "code",
   "execution_count": 2,
   "metadata": {},
   "outputs": [
    {
     "name": "stdout",
     "output_type": "stream",
     "text": [
      "\n",
      "orag-hyq-tm:\n",
      "Accuracy:  65.0446%\n",
      "Accuracy (if context):  71.9588%\n",
      "Zeroshot acc on these:  87.4227%\n",
      "CoT acc on these:       85.7732%\n",
      "\n",
      "orag-tm:\n",
      "Accuracy:  64.2221%\n",
      "Accuracy (if context):  67.0959%\n",
      "Zeroshot acc on these:  86.2661%\n",
      "CoT acc on these:       84.2632%\n",
      "\n",
      "orag-hyq:\n",
      "Accuracy:  83.6189%\n",
      "Accuracy (if context):  83.8328%\n",
      "Zeroshot acc on these:  86.2776%\n",
      "CoT acc on these:       85.3312%\n",
      "\n",
      "orag-simple:\n",
      "Accuracy:  80.1919%\n",
      "Accuracy (if context):  81.4020%\n",
      "Zeroshot acc on these:  86.2661%\n",
      "CoT acc on these:       84.2632%\n",
      "\n",
      "cot:\n",
      "Accuracy:  84.8526%\n",
      "\n",
      "zeroshot:\n",
      "Accuracy:  85.9493%\n"
     ]
    },
    {
     "name": "stderr",
     "output_type": "stream",
     "text": [
      "/tmp/ipykernel_2570282/1093007628.py:22: SettingWithCopyWarning: \n",
      "A value is trying to be set on a copy of a slice from a DataFrame.\n",
      "Try using .loc[row_indexer,col_indexer] = value instead\n",
      "\n",
      "See the caveats in the documentation: https://pandas.pydata.org/pandas-docs/stable/user_guide/indexing.html#returning-a-view-versus-a-copy\n",
      "  df[\"choice_answer_proc\"] = (\n",
      "/tmp/ipykernel_2570282/1093007628.py:22: SettingWithCopyWarning: \n",
      "A value is trying to be set on a copy of a slice from a DataFrame.\n",
      "Try using .loc[row_indexer,col_indexer] = value instead\n",
      "\n",
      "See the caveats in the documentation: https://pandas.pydata.org/pandas-docs/stable/user_guide/indexing.html#returning-a-view-versus-a-copy\n",
      "  df[\"choice_answer_proc\"] = (\n",
      "/tmp/ipykernel_2570282/1093007628.py:22: SettingWithCopyWarning: \n",
      "A value is trying to be set on a copy of a slice from a DataFrame.\n",
      "Try using .loc[row_indexer,col_indexer] = value instead\n",
      "\n",
      "See the caveats in the documentation: https://pandas.pydata.org/pandas-docs/stable/user_guide/indexing.html#returning-a-view-versus-a-copy\n",
      "  df[\"choice_answer_proc\"] = (\n",
      "/tmp/ipykernel_2570282/1093007628.py:22: SettingWithCopyWarning: \n",
      "A value is trying to be set on a copy of a slice from a DataFrame.\n",
      "Try using .loc[row_indexer,col_indexer] = value instead\n",
      "\n",
      "See the caveats in the documentation: https://pandas.pydata.org/pandas-docs/stable/user_guide/indexing.html#returning-a-view-versus-a-copy\n",
      "  df[\"choice_answer_proc\"] = (\n",
      "/tmp/ipykernel_2570282/1093007628.py:22: SettingWithCopyWarning: \n",
      "A value is trying to be set on a copy of a slice from a DataFrame.\n",
      "Try using .loc[row_indexer,col_indexer] = value instead\n",
      "\n",
      "See the caveats in the documentation: https://pandas.pydata.org/pandas-docs/stable/user_guide/indexing.html#returning-a-view-versus-a-copy\n",
      "  df[\"choice_answer_proc\"] = (\n",
      "/tmp/ipykernel_2570282/1093007628.py:22: SettingWithCopyWarning: \n",
      "A value is trying to be set on a copy of a slice from a DataFrame.\n",
      "Try using .loc[row_indexer,col_indexer] = value instead\n",
      "\n",
      "See the caveats in the documentation: https://pandas.pydata.org/pandas-docs/stable/user_guide/indexing.html#returning-a-view-versus-a-copy\n",
      "  df[\"choice_answer_proc\"] = (\n",
      "/tmp/ipykernel_2570282/1093007628.py:22: SettingWithCopyWarning: \n",
      "A value is trying to be set on a copy of a slice from a DataFrame.\n",
      "Try using .loc[row_indexer,col_indexer] = value instead\n",
      "\n",
      "See the caveats in the documentation: https://pandas.pydata.org/pandas-docs/stable/user_guide/indexing.html#returning-a-view-versus-a-copy\n",
      "  df[\"choice_answer_proc\"] = (\n",
      "/tmp/ipykernel_2570282/1093007628.py:22: SettingWithCopyWarning: \n",
      "A value is trying to be set on a copy of a slice from a DataFrame.\n",
      "Try using .loc[row_indexer,col_indexer] = value instead\n",
      "\n",
      "See the caveats in the documentation: https://pandas.pydata.org/pandas-docs/stable/user_guide/indexing.html#returning-a-view-versus-a-copy\n",
      "  df[\"choice_answer_proc\"] = (\n",
      "/tmp/ipykernel_2570282/1093007628.py:22: SettingWithCopyWarning: \n",
      "A value is trying to be set on a copy of a slice from a DataFrame.\n",
      "Try using .loc[row_indexer,col_indexer] = value instead\n",
      "\n",
      "See the caveats in the documentation: https://pandas.pydata.org/pandas-docs/stable/user_guide/indexing.html#returning-a-view-versus-a-copy\n",
      "  df[\"choice_answer_proc\"] = (\n",
      "/tmp/ipykernel_2570282/1093007628.py:22: SettingWithCopyWarning: \n",
      "A value is trying to be set on a copy of a slice from a DataFrame.\n",
      "Try using .loc[row_indexer,col_indexer] = value instead\n",
      "\n",
      "See the caveats in the documentation: https://pandas.pydata.org/pandas-docs/stable/user_guide/indexing.html#returning-a-view-versus-a-copy\n",
      "  df[\"choice_answer_proc\"] = (\n",
      "/tmp/ipykernel_2570282/1093007628.py:22: SettingWithCopyWarning: \n",
      "A value is trying to be set on a copy of a slice from a DataFrame.\n",
      "Try using .loc[row_indexer,col_indexer] = value instead\n",
      "\n",
      "See the caveats in the documentation: https://pandas.pydata.org/pandas-docs/stable/user_guide/indexing.html#returning-a-view-versus-a-copy\n",
      "  df[\"choice_answer_proc\"] = (\n",
      "/tmp/ipykernel_2570282/1093007628.py:22: SettingWithCopyWarning: \n",
      "A value is trying to be set on a copy of a slice from a DataFrame.\n",
      "Try using .loc[row_indexer,col_indexer] = value instead\n",
      "\n",
      "See the caveats in the documentation: https://pandas.pydata.org/pandas-docs/stable/user_guide/indexing.html#returning-a-view-versus-a-copy\n",
      "  df[\"choice_answer_proc\"] = (\n"
     ]
    }
   ],
   "source": [
    "def clean_model_answer_abcde(model_out):\n",
    "    \"\"\"Process the model output to get the answer.\"\"\"\n",
    "    try:\n",
    "        model_out = model_out.split(\"Answer:\")[1].strip()\n",
    "    except:\n",
    "        return None\n",
    "    inter = set(model_out).intersection(set(\"ABCDE\"))\n",
    "    if len(model_out) == 1:\n",
    "        if model_out in list(\"ABCDE\"):\n",
    "            return model_out\n",
    "    elif inter:\n",
    "        if len(inter) == 1:\n",
    "            return inter.pop()\n",
    "        elif \":\" in model_out:\n",
    "            if model_out.split(\":\")[0] in \"ABCDE\":\n",
    "                return model_out.split(\":\")[0]\n",
    "    return None\n",
    "\n",
    "\n",
    "def accuracy_yn(df, s):\n",
    "    # preprocess choice_answer\n",
    "    df[\"choice_answer_proc\"] = (\n",
    "        df[\"choice_answer\"]\n",
    "        .astype(str)\n",
    "        .str.split(\"Answer:\")\n",
    "        .apply(lambda x: x[1] if len(x) > 1 else x[0])\n",
    "    )\n",
    "    acc = (\n",
    "        df[\"choice_answer_proc\"].str.strip().str.lower()\n",
    "        == df[\"answer\"].str.strip().str.lower()\n",
    "    ).mean()\n",
    "    print(f\"{s} {acc*100:.4f}%\")\n",
    "\n",
    "\n",
    "def accuracy_abcde(df, s):\n",
    "    # preprocess choice_answer\n",
    "    df[\"choice_answer_proc\"] = df[\"choice_answer\"].apply(\n",
    "        clean_model_answer_abcde\n",
    "    )\n",
    "    acc = (df[\"choice_answer_proc\"] == df[\"answer\"]).mean()\n",
    "    print(f\"{s} {acc*100:.4f}%\")\n",
    "\n",
    "\n",
    "bench = \"bioasq\"\n",
    "accuracy_metric = accuracy_yn\n",
    "zs = pd.read_csv(f\"data/_{bench}_zeroshot.csv\", sep=\"\\t\")\n",
    "cot = pd.read_csv(f\"data/_{bench}_cot.csv\", sep=\"\\t\")\n",
    "for name in runs.values():\n",
    "    df = pd.read_csv(f\"data/_{bench}_{name}.csv\", sep=\"\\t\")\n",
    "    print(f\"\\n{name}:\")\n",
    "    accuracy_metric(df, s=\"Accuracy: \")\n",
    "    if \"orag\" in name:\n",
    "        accuracy_metric(\n",
    "            df[df.context.astype(str).str.len() > 2],\n",
    "            s=\"Accuracy (if context): \",\n",
    "        )\n",
    "        accuracy_metric(\n",
    "            zs[df.context.astype(str).str.len() > 2],\n",
    "            s=\"Zeroshot acc on these: \",\n",
    "        )\n",
    "        accuracy_metric(\n",
    "            cot[df.context.astype(str).str.len() > 2],\n",
    "            s=\"CoT acc on these:      \",\n",
    "        )"
   ]
  },
  {
   "cell_type": "markdown",
   "metadata": {},
   "source": [
    "## Analyze no. concepts vs performance"
   ]
  },
  {
   "cell_type": "code",
   "execution_count": 3,
   "metadata": {},
   "outputs": [],
   "source": [
    "def clean_model_answer_abcde(model_out):\n",
    "    \"\"\"Process the model output to get the answer.\"\"\"\n",
    "    try:\n",
    "        model_out = model_out.split(\"Answer:\")[1].strip()\n",
    "    except:\n",
    "        return None\n",
    "    inter = set(model_out).intersection(set(\"ABCDE\"))\n",
    "    if len(model_out) == 1:\n",
    "        if model_out in list(\"ABCDE\"):\n",
    "            return model_out\n",
    "    elif inter:\n",
    "        if len(inter) == 1:\n",
    "            return inter.pop()\n",
    "        elif \":\" in model_out:\n",
    "            if model_out.split(\":\")[0] in \"ABCDE\":\n",
    "                return model_out.split(\":\")[0]\n",
    "    return None"
   ]
  },
  {
   "cell_type": "code",
   "execution_count": 4,
   "metadata": {},
   "outputs": [
    {
     "name": "stdout",
     "output_type": "stream",
     "text": [
      "medqa. Corr: 0.7852\n",
      "mmlumed. Corr: 0.7506\n",
      "medmcqa. Corr: 0.1018\n"
     ]
    }
   ],
   "source": [
    "import numpy as np\n",
    "import pandas as pd\n",
    "\n",
    "dfm = {}\n",
    "for m in [\"orag-hyq-tm\", \"orag-tm\", \"orag-hyq\", \"orag-simple\"]:\n",
    "    for bench in [\"medqa\", \"mmlumed\", \"medmcqa\"]:\n",
    "        if m not in dfm:\n",
    "            dfm[m] = {}\n",
    "        dfm[m][bench] = pd.read_csv(f\"data/_{bench}_{m}.csv\", sep=\"\\t\")\n",
    "\n",
    "import re\n",
    "\n",
    "\n",
    "def ncon(context):\n",
    "    if isinstance(context, str):\n",
    "        return len(re.findall(r\"\\\"concepts\\\":\", context))\n",
    "    return 0\n",
    "\n",
    "\n",
    "# Calc accuracy and # concepts for each variation, for each benchmark\n",
    "res = {}\n",
    "for bench in [\"medqa\", \"mmlumed\", \"medmcqa\"]:\n",
    "    accs = []\n",
    "    nconcepts = []\n",
    "    for m in dfm.keys():\n",
    "        ac = np.mean(\n",
    "            dfm[m][bench].choice_answer.apply(clean_model_answer_abcde)\n",
    "            == dfm[m][bench].answer\n",
    "        )\n",
    "        concepts = dfm[m][bench].context.apply(ncon)\n",
    "        accs.append(ac)\n",
    "        nconcepts.append(concepts.mean())\n",
    "\n",
    "    print(f\"{bench}. Corr: {np.corrcoef(accs, nconcepts)[0,1]:.4f}\")\n",
    "    res[bench] = (accs, nconcepts)"
   ]
  },
  {
   "cell_type": "markdown",
   "metadata": {},
   "source": [
    "# Analysis of RAG performance per class"
   ]
  },
  {
   "cell_type": "code",
   "execution_count": 65,
   "metadata": {},
   "outputs": [
    {
     "name": "stderr",
     "output_type": "stream",
     "text": [
      "/tmp/ipykernel_2570282/1867730512.py:9: DeprecationWarning: DataFrameGroupBy.apply operated on the grouping columns. This behavior is deprecated, and in a future version of pandas the grouping columns will be excluded from the operation. Either pass `include_groups=False` to exclude the groupings or explicitly select the grouping columns after groupby to silence this warning.\n",
      "  orag = dfm[method][bench].groupby('class_1').apply(acc).sort_values('len', ascending=False)\n",
      "/tmp/ipykernel_2570282/1867730512.py:13: DeprecationWarning: DataFrameGroupBy.apply operated on the grouping columns. This behavior is deprecated, and in a future version of pandas the grouping columns will be excluded from the operation. Either pass `include_groups=False` to exclude the groupings or explicitly select the grouping columns after groupby to silence this warning.\n",
      "  zs = zsraw.groupby('class_1').apply(acc).sort_values('len', ascending=False)\n",
      "/tmp/ipykernel_2570282/1867730512.py:18: DeprecationWarning: DataFrameGroupBy.apply operated on the grouping columns. This behavior is deprecated, and in a future version of pandas the grouping columns will be excluded from the operation. Either pass `include_groups=False` to exclude the groupings or explicitly select the grouping columns after groupby to silence this warning.\n",
      "  cot = cotraw.groupby('class_1').apply(acc).sort_values('len', ascending=False)\n"
     ]
    },
    {
     "data": {
      "text/html": [
       "<div>\n",
       "<style scoped>\n",
       "    .dataframe tbody tr th:only-of-type {\n",
       "        vertical-align: middle;\n",
       "    }\n",
       "\n",
       "    .dataframe tbody tr th {\n",
       "        vertical-align: top;\n",
       "    }\n",
       "\n",
       "    .dataframe thead th {\n",
       "        text-align: right;\n",
       "    }\n",
       "</style>\n",
       "<table border=\"1\" class=\"dataframe\">\n",
       "  <thead>\n",
       "    <tr style=\"text-align: right;\">\n",
       "      <th></th>\n",
       "      <th></th>\n",
       "      <th>ZeroShot</th>\n",
       "      <th>CoT</th>\n",
       "      <th>OntoRAG</th>\n",
       "    </tr>\n",
       "    <tr>\n",
       "      <th>No. Entries</th>\n",
       "      <th>Question Class</th>\n",
       "      <th></th>\n",
       "      <th></th>\n",
       "      <th></th>\n",
       "    </tr>\n",
       "  </thead>\n",
       "  <tbody>\n",
       "    <tr>\n",
       "      <th>405.0</th>\n",
       "      <th>Unknown</th>\n",
       "      <td>0.832099</td>\n",
       "      <td>0.777778</td>\n",
       "      <td>0.817284</td>\n",
       "    </tr>\n",
       "    <tr>\n",
       "      <th>311.0</th>\n",
       "      <th>Biochemistry</th>\n",
       "      <td>0.807074</td>\n",
       "      <td>0.781350</td>\n",
       "      <td>0.826367</td>\n",
       "    </tr>\n",
       "    <tr>\n",
       "      <th>283.0</th>\n",
       "      <th>Physiology</th>\n",
       "      <td>0.819788</td>\n",
       "      <td>0.791519</td>\n",
       "      <td>0.819788</td>\n",
       "    </tr>\n",
       "    <tr>\n",
       "      <th>130.0</th>\n",
       "      <th>Medicine</th>\n",
       "      <td>0.876923</td>\n",
       "      <td>0.830769</td>\n",
       "      <td>0.861538</td>\n",
       "    </tr>\n",
       "    <tr>\n",
       "      <th>92.0</th>\n",
       "      <th>Social &amp; Preventive Medicine</th>\n",
       "      <td>0.750000</td>\n",
       "      <td>0.652174</td>\n",
       "      <td>0.706522</td>\n",
       "    </tr>\n",
       "    <tr>\n",
       "      <th>88.0</th>\n",
       "      <th>Microbiology</th>\n",
       "      <td>0.579545</td>\n",
       "      <td>0.568182</td>\n",
       "      <td>0.613636</td>\n",
       "    </tr>\n",
       "    <tr>\n",
       "      <th>80.0</th>\n",
       "      <th>Gynaecology &amp; Obstetrics</th>\n",
       "      <td>0.825000</td>\n",
       "      <td>0.775000</td>\n",
       "      <td>0.825000</td>\n",
       "    </tr>\n",
       "    <tr>\n",
       "      <th>77.0</th>\n",
       "      <th>Anatomy</th>\n",
       "      <td>0.766234</td>\n",
       "      <td>0.766234</td>\n",
       "      <td>0.909091</td>\n",
       "    </tr>\n",
       "    <tr>\n",
       "      <th>72.0</th>\n",
       "      <th>Pharmacology</th>\n",
       "      <td>0.777778</td>\n",
       "      <td>0.791667</td>\n",
       "      <td>0.763889</td>\n",
       "    </tr>\n",
       "    <tr>\n",
       "      <th>68.0</th>\n",
       "      <th>Pediatrics</th>\n",
       "      <td>0.852941</td>\n",
       "      <td>0.867647</td>\n",
       "      <td>0.852941</td>\n",
       "    </tr>\n",
       "    <tr>\n",
       "      <th>49.0</th>\n",
       "      <th>Psychiatry</th>\n",
       "      <td>0.734694</td>\n",
       "      <td>0.755102</td>\n",
       "      <td>0.734694</td>\n",
       "    </tr>\n",
       "    <tr>\n",
       "      <th>33.0</th>\n",
       "      <th>Surgery</th>\n",
       "      <td>0.727273</td>\n",
       "      <td>0.666667</td>\n",
       "      <td>0.606061</td>\n",
       "    </tr>\n",
       "    <tr>\n",
       "      <th>23.0</th>\n",
       "      <th>Dental</th>\n",
       "      <td>0.739130</td>\n",
       "      <td>0.652174</td>\n",
       "      <td>0.739130</td>\n",
       "    </tr>\n",
       "    <tr>\n",
       "      <th rowspan=\"2\" valign=\"top\">18.0</th>\n",
       "      <th>Genetics</th>\n",
       "      <td>0.833333</td>\n",
       "      <td>0.777778</td>\n",
       "      <td>0.888889</td>\n",
       "    </tr>\n",
       "    <tr>\n",
       "      <th>Orthopaedics</th>\n",
       "      <td>0.833333</td>\n",
       "      <td>0.666667</td>\n",
       "      <td>0.833333</td>\n",
       "    </tr>\n",
       "    <tr>\n",
       "      <th>16.0</th>\n",
       "      <th>Neurology</th>\n",
       "      <td>0.875000</td>\n",
       "      <td>0.812500</td>\n",
       "      <td>0.812500</td>\n",
       "    </tr>\n",
       "  </tbody>\n",
       "</table>\n",
       "</div>"
      ],
      "text/plain": [
       "                                          ZeroShot       CoT   OntoRAG\n",
       "No. Entries Question Class                                            \n",
       "405.0       Unknown                       0.832099  0.777778  0.817284\n",
       "311.0       Biochemistry                  0.807074  0.781350  0.826367\n",
       "283.0       Physiology                    0.819788  0.791519  0.819788\n",
       "130.0       Medicine                      0.876923  0.830769  0.861538\n",
       "92.0        Social & Preventive Medicine  0.750000  0.652174  0.706522\n",
       "88.0        Microbiology                  0.579545  0.568182  0.613636\n",
       "80.0        Gynaecology & Obstetrics      0.825000  0.775000  0.825000\n",
       "77.0        Anatomy                       0.766234  0.766234  0.909091\n",
       "72.0        Pharmacology                  0.777778  0.791667  0.763889\n",
       "68.0        Pediatrics                    0.852941  0.867647  0.852941\n",
       "49.0        Psychiatry                    0.734694  0.755102  0.734694\n",
       "33.0        Surgery                       0.727273  0.666667  0.606061\n",
       "23.0        Dental                        0.739130  0.652174  0.739130\n",
       "18.0        Genetics                      0.833333  0.777778  0.888889\n",
       "            Orthopaedics                  0.833333  0.666667  0.833333\n",
       "16.0        Neurology                     0.875000  0.812500  0.812500"
      ]
     },
     "metadata": {},
     "output_type": "display_data"
    },
    {
     "name": "stdout",
     "output_type": "stream",
     "text": [
      "\\begin{tabular}{llrrr}\n",
      "\\toprule\n",
      " &  & ZeroShot & CoT & OntoRAG \\\\\n",
      "No. Entries & Question Class &  &  &  \\\\\n",
      "\\midrule\n",
      "405.000000 & Unknown & 0.83 & 0.78 & 0.82 \\\\\n",
      "\\cline{1-5}\n",
      "311.000000 & Biochemistry & 0.81 & 0.78 & 0.83 \\\\\n",
      "\\cline{1-5}\n",
      "283.000000 & Physiology & 0.82 & 0.79 & 0.82 \\\\\n",
      "\\cline{1-5}\n",
      "130.000000 & Medicine & 0.88 & 0.83 & 0.86 \\\\\n",
      "\\cline{1-5}\n",
      "92.000000 & Social & Preventive Medicine & 0.75 & 0.65 & 0.71 \\\\\n",
      "\\cline{1-5}\n",
      "88.000000 & Microbiology & 0.58 & 0.57 & 0.61 \\\\\n",
      "\\cline{1-5}\n",
      "80.000000 & Gynaecology & Obstetrics & 0.82 & 0.78 & 0.82 \\\\\n",
      "\\cline{1-5}\n",
      "77.000000 & Anatomy & 0.77 & 0.77 & 0.91 \\\\\n",
      "\\cline{1-5}\n",
      "72.000000 & Pharmacology & 0.78 & 0.79 & 0.76 \\\\\n",
      "\\cline{1-5}\n",
      "68.000000 & Pediatrics & 0.85 & 0.87 & 0.85 \\\\\n",
      "\\cline{1-5}\n",
      "49.000000 & Psychiatry & 0.73 & 0.76 & 0.73 \\\\\n",
      "\\cline{1-5}\n",
      "33.000000 & Surgery & 0.73 & 0.67 & 0.61 \\\\\n",
      "\\cline{1-5}\n",
      "23.000000 & Dental & 0.74 & 0.65 & 0.74 \\\\\n",
      "\\cline{1-5}\n",
      "\\multirow[t]{2}{*}{18.000000} & Genetics & 0.83 & 0.78 & 0.89 \\\\\n",
      " & Orthopaedics & 0.83 & 0.67 & 0.83 \\\\\n",
      "\\cline{1-5}\n",
      "16.000000 & Neurology & 0.88 & 0.81 & 0.81 \\\\\n",
      "\\cline{1-5}\n",
      "\\bottomrule\n",
      "\\end{tabular}\n",
      "\n"
     ]
    }
   ],
   "source": [
    "def acc(df):\n",
    "    acc = np.mean(\n",
    "        df.choice_answer.apply(clean_model_answer_abcde) == df.answer\n",
    "    )\n",
    "    return pd.Series({\"accuracy\": acc, \"len\": int(df.shape[0])})\n",
    "\n",
    "\n",
    "bench = \"medqa\"\n",
    "method = \"orag-hyq-tm\"\n",
    "\n",
    "\n",
    "def finegrain(bench, method):\n",
    "    orag = (\n",
    "        dfm[method][bench]\n",
    "        .groupby(\"class_1\")\n",
    "        .apply(acc)\n",
    "        .sort_values(\"len\", ascending=False)\n",
    "    )\n",
    "\n",
    "    # Now compute same for zeroshot\n",
    "    zsraw = pd.read_csv(f\"data/_{bench}_zeroshot.csv\", sep=\"\\t\")\n",
    "    zs = (\n",
    "        zsraw.groupby(\"class_1\").apply(acc).sort_values(\"len\", ascending=False)\n",
    "    )\n",
    "\n",
    "    # Now compute same for cot\n",
    "    cotraw = pd.read_csv(f\"data/_{bench}_cot.csv\", sep=\"\\t\")\n",
    "    cot = (\n",
    "        cotraw.groupby(\"class_1\")\n",
    "        .apply(acc)\n",
    "        .sort_values(\"len\", ascending=False)\n",
    "    )\n",
    "\n",
    "    # Merge all\n",
    "    comp = pd.concat(\n",
    "        [zs[\"accuracy\"], cot[\"accuracy\"], orag[\"accuracy\"], orag[\"len\"]],\n",
    "        axis=1,\n",
    "        keys=[\"ZeroShot\", \"CoT\", \"OntoRAG\", \"len\"],\n",
    "    ).reset_index()\n",
    "    comp = comp.rename(\n",
    "        columns={\"class_1\": \"Question Class\", \"len\": \"No. Entries\"}\n",
    "    ).set_index([\"No. Entries\", \"Question Class\"])\n",
    "\n",
    "    # keep only one len column\n",
    "    n = 15\n",
    "    display(comp.iloc[: n + 1])\n",
    "    return comp.iloc[: n + 1].to_latex(float_format=\"%.2f\")\n",
    "\n",
    "\n",
    "f = finegrain(\"mmlumed\", \"orag-hyq-tm\")\n",
    "print(f)"
   ]
  },
  {
   "cell_type": "code",
   "execution_count": null,
   "metadata": {},
   "outputs": [],
   "source": []
  }
 ],
 "metadata": {
  "kernelspec": {
   "display_name": "ontorag",
   "language": "python",
   "name": "python3"
  },
  "language_info": {
   "codemirror_mode": {
    "name": "ipython",
    "version": 3
   },
   "file_extension": ".py",
   "mimetype": "text/x-python",
   "name": "python",
   "nbconvert_exporter": "python",
   "pygments_lexer": "ipython3",
   "version": "3.11.9"
  }
 },
 "nbformat": 4,
 "nbformat_minor": 2
}
